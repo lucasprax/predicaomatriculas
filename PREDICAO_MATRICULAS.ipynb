{
 "cells": [
  {
   "cell_type": "code",
   "execution_count": 2,
   "id": "4a7186b7-dd52-414b-b734-a9ec8043e75a",
   "metadata": {},
   "outputs": [
    {
     "name": "stdout",
     "output_type": "stream",
     "text": [
      "ETAPA INICIAL: INICIANDO SCRIPT DE MODELAGEM\n",
      "\n",
      "ETAPA: CARREGANDO OS DADOS DO CSV E CRIANDO O DATAFRAME\n",
      "INICIANDO CARGA DE DADOS DE FORMA PARALELA: ANOS [2011, 2012, 2013, 2014, 2015, 2016, 2017, 2018, 2019, 2020, 2021]\n"
     ]
    },
    {
     "name": "stderr",
     "output_type": "stream",
     "text": [
      "Lendo arquivos CSV em paralelo: 100%|██████████| 11/11 [02:21<00:00, 12.83s/it]\n"
     ]
    },
    {
     "name": "stdout",
     "output_type": "stream",
     "text": [
      "\n",
      "SUBETAPA: CONCATENANDO DATAFRAMES DE ANOS\n",
      "SHAPE DO DATAFRAME CONCATENADO: (2592108, 370)\n",
      "\n",
      "ETAPA: OTIMIZANDO O TAMANHO DO DATAFRAME\n",
      "TAMANHO INICIAL DO DATAFRAME: 7317.20 MB\n",
      "TAMANHO FINAL DO DATAFRAME: 1673.56 MB\n",
      "PERCENTUAL DE REDUÇÃO: 77.1%\n",
      "\n",
      "ETAPA: INICIANDO AMOSTRAGEM DE ESCOLAS\n",
      "SHAPE INICIAL ANTES DA AMOSTRA: (2592108, 370)\n",
      "TOTAL DE ESCOLAS ÚNICAS: 280489\n",
      "ESCOLAS A SEREM AMOSTRADAS (10.0%): 28048\n",
      "SHAPE APÓS AMOSTRA: (258843, 370)\n",
      "\n",
      "ETAPA: INICIANDO O PRE PROCESSAMENTO DOS DADOS\n",
      "\n",
      "SUBETAPA [1]: REMOVENDO COLUNAS COM MUITOS NULOS\n",
      "\n",
      "SUBETAPA [2]: SELECIONANDO AS COLUNAS QUE IDENTIFICAM AS ETAPAS DE ENSINO\n",
      "COLUNAS DE ETAPAS ENCONTRADAS: 45\n",
      "\n",
      "SUBETAPA [3]: OTIMIZANDO COLUNAS INDICADORAS E PREENCHENDO NAs\n"
     ]
    },
    {
     "name": "stderr",
     "output_type": "stream",
     "text": [
      "Processando colunas indicadoras: 100%|██████████| 210/210 [00:00<00:00, 1643.74it/s]"
     ]
    },
    {
     "name": "stdout",
     "output_type": "stream",
     "text": [
      "\n",
      "SUBETAPA [4]: CONVERTENDO CATEGORIAS EM DADOS NUMÉRICOS\n"
     ]
    },
    {
     "name": "stderr",
     "output_type": "stream",
     "text": [
      "\n"
     ]
    },
    {
     "name": "stdout",
     "output_type": "stream",
     "text": [
      "COLUNAS CATEGORICAS A CONVERTER: 29\n"
     ]
    },
    {
     "name": "stderr",
     "output_type": "stream",
     "text": [
      "Convertendo colunas categóricas: 100%|██████████| 29/29 [00:00<00:00, 47.32it/s]\n"
     ]
    },
    {
     "name": "stdout",
     "output_type": "stream",
     "text": [
      "\n",
      "SUBETAPA [5]: REMOVENDO OUTLIERS USANDO CAPPING EM PERCENTIL 99\n",
      "COLUNAS QUANTITATIVAS A SEREM TRATADAS: 113\n"
     ]
    },
    {
     "name": "stderr",
     "output_type": "stream",
     "text": [
      "Tratando outliers: 100%|██████████| 113/113 [00:00<00:00, 215.39it/s]\n"
     ]
    },
    {
     "name": "stdout",
     "output_type": "stream",
     "text": [
      "\n",
      "SUBETAPA [6]: PREENCHENDO NAN COM MEDIANA\n"
     ]
    },
    {
     "name": "stderr",
     "output_type": "stream",
     "text": [
      "Preenchendo NaNs com mediana: 100%|██████████| 368/368 [00:00<00:00, 3796.74it/s]\n"
     ]
    },
    {
     "name": "stdout",
     "output_type": "stream",
     "text": [
      "\n",
      "SUBETAPA [7]: REMOVENDO COLUNAS SEM VARIÂNCIA\n",
      "PRE-PROCESSAMENTO CONCLUIDO. SHAPE FINAL: (258843, 370)\n",
      "\n",
      "SUBETAPA: OTIMIZANDO DATAFRAME PRE PROCESSADO\n",
      "\n",
      "ETAPA: OTIMIZANDO O TAMANHO DO DATAFRAME\n",
      "\n",
      "ETAPA: CRIANDO FEATURES TEMPORAIS (LAGS) EM PARALELO\n",
      "SUB-ETAPA: CALCULANDO PARAMETROS (NÚCLEOS, CHUNKS NECESSÁRIOS, ESCOLAS)\n",
      "NÚMERO DE CHUNKS: 72\n",
      "SUB-ETAPA: COMEÇANDO O PARALELISMO DO PROCESSAMENTO DAS CHUNKS\n"
     ]
    },
    {
     "name": "stderr",
     "output_type": "stream",
     "text": [
      "Processando chunks de escolas: 100%|██████████| 72/72 [00:31<00:00,  2.28it/s]\n"
     ]
    },
    {
     "name": "stdout",
     "output_type": "stream",
     "text": [
      "SUB-ETAPA: CONCATENANDO OS CHUNKS PROCESSADOS\n",
      "SHAPE DA CONCATENAÇÃO COM LAGS: (258843, 514)\n",
      "SUB-ETAPA: FILTRANDO LINHAS COM LAGS INVÁLIDOS (NaN, Inf)\n",
      "SUB-ETAPA: PREENCHENDO COLUNAS NUMÉRICAS NA COM ZERO\n",
      "SHAPE FINAL APÓS CRIAÇÃO DE FEATURES: (230795, 514)\n",
      "\n",
      "ETAPA: MODELAGEM DE MODELOS COM BASE NAS FEATURES MAIS CORRELACIONADAS\n",
      "NÚCLEOS DA CPU EM USO: 18\n",
      "SUB-ETAPA: SALVANDO DATAFRAME COMPLETO EM ARQUIVO TEMPORÁRIO (Feather)\n",
      "SUB-ETAPA: COMEÇANDO O PARALELISMO DO PROCESSAMENTO DAS MODELAGENS POR ETAPAS\n"
     ]
    },
    {
     "name": "stderr",
     "output_type": "stream",
     "text": [
      "Processando Etapas de Ensino:   0%|          | 0/45 [00:00<?, ?it/s]"
     ]
    },
    {
     "name": "stdout",
     "output_type": "stream",
     "text": [
      "\n",
      "SUB-ETAPA: INICIANDO ETAPA DE ENSINO EM PARALELISMO: [IN_VINCULO_SECRETARIA_EDUCACAO]\n",
      "SUB-ETAPA: INICIANDO ETAPA DE ENSINO EM PARALELISMO: [IN_VINCULO_SECRETARIA_SAUDE]\n",
      "SUB-ETAPA: INICIANDO ETAPA DE ENSINO EM PARALELISMO: [IN_LOCAL_FUNC_SALAS_EMPRESA]\n",
      "SUB-ETAPA: INICIANDO ETAPA DE ENSINO EM PARALELISMO: [IN_LOCAL_FUNC_PREDIO_ESCOLAR]\n",
      "SUB-ETAPA: INICIANDO ETAPA DE ENSINO EM PARALELISMO: [IN_PREDIO_COMPARTILHADO]\n",
      "SUB-ETAPA: INICIANDO ETAPA DE ENSINO EM PARALELISMO: [IN_BIBLIOTECA]\n",
      "SUB-ETAPA: INICIANDO ETAPA DE ENSINO EM PARALELISMO: [IN_BANHEIRO_FORA_PREDIO]\n",
      "SUB-ETAPA: INICIANDO ETAPA DE ENSINO EM PARALELISMO: [IN_BANHEIRO_DENTRO_PREDIO]\n",
      "SUB-ETAPA: INICIANDO ETAPA DE ENSINO EM PARALELISMO: [IN_ACESSIBILIDADE_PISOS_TATEIS]\n",
      "SUB-ETAPA: INICIANDO ETAPA DE ENSINO EM PARALELISMO: [IN_ACESSIBILIDADE_CORRIMAO]\n",
      "SUB-ETAPA: INICIANDO ETAPA DE ENSINO EM PARALELISMO: [IN_SECRETARIA]\n",
      "SUB-ETAPA: INICIANDO ETAPA DE ENSINO EM PARALELISMO: [IN_ACESSIBILIDADE_ELEVADOR]\n",
      "SUB-ETAPA: INICIANDO ETAPA DE ENSINO EM PARALELISMO: [IN_BIBLIOTECA_SALA_LEITURA]\n",
      "SUB-ETAPA: INICIANDO ETAPA DE ENSINO EM PARALELISMO: [IN_ACESSIBILIDADE_VAO_LIVRE]\n",
      "\n",
      "\n",
      "\n",
      "\n",
      "SUB-ETAPA: INICIANDO ETAPA DE ENSINO EM PARALELISMO: [IN_ACESSIBILIDADE_RAMPAS]\n",
      "SUB-ETAPA: INICIANDO ETAPA DE ENSINO EM PARALELISMO: [IN_ACESSIBILIDADE_SINAL_TATIL]\n",
      "\n",
      "SUB-ETAPA: INICIANDO ETAPA DE ENSINO EM PARALELISMO: [IN_ACESSIBILIDADE_SINAL_SONORO]\n",
      "\n",
      "SUB-ETAPA: INICIANDO ETAPA DE ENSINO EM PARALELISMO: [IN_ACESSIBILIDADE_SINAL_VISUAL]\n",
      "\n",
      "\n",
      "\n",
      "\n",
      "\n",
      "\n",
      "\n",
      "\n",
      "\n",
      "\n",
      "\n",
      "[IN_LOCAL_FUNC_SALAS_EMPRESA] PULANDO: VARIÁVEL ALVO 'QT_MAT_LOCAL_FUNC_SALAS_EMPRESA' NÃO ENCONTRADA OU SEM VARIÂNCIA.\n"
     ]
    },
    {
     "name": "stderr",
     "output_type": "stream",
     "text": [
      "Processando Etapas de Ensino:   2%|▏         | 1/45 [00:03<02:18,  3.15s/it]"
     ]
    },
    {
     "name": "stdout",
     "output_type": "stream",
     "text": [
      "\n",
      "SUB-ETAPA: INICIANDO ETAPA DE ENSINO EM PARALELISMO: [IN_ACESSIBILIDADE_INEXISTENTE]\n",
      "[IN_VINCULO_SECRETARIA_SAUDE] PULANDO: DADOS INSUFICIENTES (6 amostras).\n",
      "\n",
      "SUB-ETAPA: INICIANDO ETAPA DE ENSINO EM PARALELISMO: [IN_EQUIP_IMPRESSORA]\n",
      "[IN_ACESSIBILIDADE_ELEVADOR] PULANDO: VARIÁVEL ALVO 'QT_MAT_ACESSIBILIDADE_ELEVADOR' NÃO ENCONTRADA OU SEM VARIÂNCIA.\n"
     ]
    },
    {
     "name": "stderr",
     "output_type": "stream",
     "text": [
      "Processando Etapas de Ensino:   7%|▋         | 3/45 [00:03<00:37,  1.11it/s]"
     ]
    },
    {
     "name": "stdout",
     "output_type": "stream",
     "text": [
      "[IN_ACESSIBILIDADE_CORRIMAO] PULANDO: VARIÁVEL ALVO 'QT_MAT_ACESSIBILIDADE_CORRIMAO' NÃO ENCONTRADA OU SEM VARIÂNCIA.\n",
      "SUB-ETAPA: INICIANDO ETAPA DE ENSINO EM PARALELISMO: [IN_EQUIP_IMPRESSORA_MULT]\n",
      "\n",
      "\n",
      "SUB-ETAPA: INICIANDO ETAPA DE ENSINO EM PARALELISMO: [IN_INTERNET_APRENDIZAGEM]\n",
      "[IN_ACESSIBILIDADE_VAO_LIVRE] PULANDO: VARIÁVEL ALVO 'QT_MAT_ACESSIBILIDADE_VAO_LIVRE' NÃO ENCONTRADA OU SEM VARIÂNCIA.\n"
     ]
    },
    {
     "name": "stderr",
     "output_type": "stream",
     "text": [
      "Processando Etapas de Ensino:  11%|█         | 5/45 [00:03<00:18,  2.13it/s]"
     ]
    },
    {
     "name": "stdout",
     "output_type": "stream",
     "text": [
      "\n",
      "SUB-ETAPA: INICIANDO ETAPA DE ENSINO EM PARALELISMO: [IN_ACESSO_INTERNET_COMPUTADOR]\n",
      "[IN_ACESSIBILIDADE_SINAL_VISUAL] PULANDO: VARIÁVEL ALVO 'QT_MAT_ACESSIBILIDADE_SINAL_VISUAL' NÃO ENCONTRADA OU SEM VARIÂNCIA.\n",
      "\n",
      "SUB-ETAPA: INICIANDO ETAPA DE ENSINO EM PARALELISMO: [IN_ACES_INTERNET_DISP_PESSOAIS]\n",
      "[IN_PREDIO_COMPARTILHADO] PULANDO: VARIÁVEL ALVO 'QT_MAT_PREDIO_COMPARTILHADO' NÃO ENCONTRADA OU SEM VARIÂNCIA.[IN_ACESSIBILIDADE_PISOS_TATEIS] PULANDO: VARIÁVEL ALVO 'QT_MAT_ACESSIBILIDADE_PISOS_TATEIS' NÃO ENCONTRADA OU SEM VARIÂNCIA.\n",
      "\n"
     ]
    },
    {
     "name": "stderr",
     "output_type": "stream",
     "text": [
      "Processando Etapas de Ensino:  16%|█▌        | 7/45 [00:03<00:11,  3.25it/s]"
     ]
    },
    {
     "name": "stdout",
     "output_type": "stream",
     "text": [
      "\n",
      "SUB-ETAPA: INICIANDO ETAPA DE ENSINO EM PARALELISMO: [IN_PROF_SERVICOS_GERAIS]\n",
      "SUB-ETAPA: INICIANDO ETAPA DE ENSINO EM PARALELISMO: [IN_PROF_BIBLIOTECARIO]\n",
      "\n",
      "[IN_BANHEIRO_FORA_PREDIO] PULANDO: VARIÁVEL ALVO 'QT_MAT_BANHEIRO_FORA_PREDIO' NÃO ENCONTRADA OU SEM VARIÂNCIA.\n"
     ]
    },
    {
     "name": "stderr",
     "output_type": "stream",
     "text": [
      "Processando Etapas de Ensino:  20%|██        | 9/45 [00:03<00:08,  4.11it/s]"
     ]
    },
    {
     "name": "stdout",
     "output_type": "stream",
     "text": [
      "\n",
      "SUB-ETAPA: INICIANDO ETAPA DE ENSINO EM PARALELISMO: [IN_PROF_SECRETARIO][IN_ACESSIBILIDADE_RAMPAS] PULANDO: VARIÁVEL ALVO 'QT_MAT_ACESSIBILIDADE_RAMPAS' NÃO ENCONTRADA OU SEM VARIÂNCIA.\n",
      "\n",
      "\n",
      "SUB-ETAPA: INICIANDO ETAPA DE ENSINO EM PARALELISMO: [IN_PERIODOS_SEMESTRAIS]"
     ]
    },
    {
     "name": "stderr",
     "output_type": "stream",
     "text": [
      "Processando Etapas de Ensino:  22%|██▏       | 10/45 [00:04<00:07,  4.66it/s]"
     ]
    },
    {
     "name": "stdout",
     "output_type": "stream",
     "text": [
      "\n",
      "[IN_VINCULO_SECRETARIA_EDUCACAO] PULANDO: VARIÁVEL ALVO 'QT_MAT_VINCULO_SECRETARIA_EDUCACAO' NÃO ENCONTRADA OU SEM VARIÂNCIA.\n"
     ]
    },
    {
     "name": "stderr",
     "output_type": "stream",
     "text": [
      "Processando Etapas de Ensino:  24%|██▍       | 11/45 [00:04<00:11,  3.03it/s]"
     ]
    },
    {
     "name": "stdout",
     "output_type": "stream",
     "text": [
      "[IN_BIBLIOTECA] PULANDO: VARIÁVEL ALVO 'QT_MAT_BIBLIOTECA' NÃO ENCONTRADA OU SEM VARIÂNCIA.\n",
      "SUB-ETAPA: INICIANDO ETAPA DE ENSINO EM PARALELISMO: [IN_FUNDAMENTAL_CICLOS]\n",
      "\n",
      "\n",
      "SUB-ETAPA: INICIANDO ETAPA DE ENSINO EM PARALELISMO: [IN_REDES_SOCIAIS]\n",
      "[IN_ACESSIBILIDADE_SINAL_SONORO] PULANDO: VARIÁVEL ALVO 'QT_MAT_ACESSIBILIDADE_SINAL_SONORO' NÃO ENCONTRADA OU SEM VARIÂNCIA.\n",
      "\n",
      "SUB-ETAPA: INICIANDO ETAPA DE ENSINO EM PARALELISMO: [IN_ORGAO_ASS_PAIS]"
     ]
    },
    {
     "name": "stderr",
     "output_type": "stream",
     "text": [
      "Processando Etapas de Ensino:  29%|██▉       | 13/45 [00:05<00:08,  3.94it/s]"
     ]
    },
    {
     "name": "stdout",
     "output_type": "stream",
     "text": [
      "\n",
      "[IN_ACESSIBILIDADE_SINAL_TATIL] PULANDO: VARIÁVEL ALVO 'QT_MAT_ACESSIBILIDADE_SINAL_TATIL' NÃO ENCONTRADA OU SEM VARIÂNCIA.\n"
     ]
    },
    {
     "name": "stderr",
     "output_type": "stream",
     "text": [
      "Processando Etapas de Ensino:  31%|███       | 14/45 [00:05<00:07,  4.09it/s]"
     ]
    },
    {
     "name": "stdout",
     "output_type": "stream",
     "text": [
      "\n",
      "SUB-ETAPA: INICIANDO ETAPA DE ENSINO EM PARALELISMO: [IN_ORGAO_ASS_PAIS_MESTRES]\n",
      "[IN_BIBLIOTECA_SALA_LEITURA] PULANDO: VARIÁVEL ALVO 'QT_MAT_BIBLIOTECA_SALA_LEITURA' NÃO ENCONTRADA OU SEM VARIÂNCIA.\n"
     ]
    },
    {
     "name": "stderr",
     "output_type": "stream",
     "text": [
      "Processando Etapas de Ensino:  33%|███▎      | 15/45 [00:05<00:10,  2.82it/s]"
     ]
    },
    {
     "name": "stdout",
     "output_type": "stream",
     "text": [
      "\n",
      "SUB-ETAPA: INICIANDO ETAPA DE ENSINO EM PARALELISMO: [IN_MEDIACAO_PRESENCIAL]\n",
      "[IN_ACES_INTERNET_DISP_PESSOAIS] PULANDO: VARIÁVEL ALVO 'QT_MAT_ACES_INTERNET_DISP_PESSOAIS' NÃO ENCONTRADA OU SEM VARIÂNCIA.\n"
     ]
    },
    {
     "name": "stderr",
     "output_type": "stream",
     "text": [
      "Processando Etapas de Ensino:  36%|███▌      | 16/45 [00:06<00:08,  3.34it/s]"
     ]
    },
    {
     "name": "stdout",
     "output_type": "stream",
     "text": [
      "\n",
      "SUB-ETAPA: INICIANDO ETAPA DE ENSINO EM PARALELISMO: [IN_MEDIACAO_SEMIPRESENCIAL]\n",
      "[IN_BANHEIRO_DENTRO_PREDIO] PULANDO: VARIÁVEL ALVO 'QT_MAT_BANHEIRO_DENTRO_PREDIO' NÃO ENCONTRADA OU SEM VARIÂNCIA.\n"
     ]
    },
    {
     "name": "stderr",
     "output_type": "stream",
     "text": [
      "Processando Etapas de Ensino:  38%|███▊      | 17/45 [00:06<00:07,  3.51it/s]"
     ]
    },
    {
     "name": "stdout",
     "output_type": "stream",
     "text": [
      "\n",
      "SUB-ETAPA: INICIANDO ETAPA DE ENSINO EM PARALELISMO: [IN_MEDIACAO_EAD]\n",
      "[IN_SECRETARIA] PULANDO: VARIÁVEL ALVO 'QT_MAT_SECRETARIA' NÃO ENCONTRADA OU SEM VARIÂNCIA.\n",
      "\n",
      "SUB-ETAPA: INICIANDO ETAPA DE ENSINO EM PARALELISMO: [IN_INF_CRE][IN_PERIODOS_SEMESTRAIS] PULANDO: VARIÁVEL ALVO 'QT_MAT_PERIODOS_SEMESTRAIS' NÃO ENCONTRADA OU SEM VARIÂNCIA.\n",
      "\n"
     ]
    },
    {
     "name": "stderr",
     "output_type": "stream",
     "text": [
      "Processando Etapas de Ensino:  42%|████▏     | 19/45 [00:06<00:04,  5.26it/s]"
     ]
    },
    {
     "name": "stdout",
     "output_type": "stream",
     "text": [
      "\n",
      "SUB-ETAPA: INICIANDO ETAPA DE ENSINO EM PARALELISMO: [IN_INF_PRE]\n",
      "[IN_ACESSIBILIDADE_INEXISTENTE] PULANDO: VARIÁVEL ALVO 'QT_MAT_ACESSIBILIDADE_INEXISTENTE' NÃO ENCONTRADA OU SEM VARIÂNCIA.\n"
     ]
    },
    {
     "name": "stderr",
     "output_type": "stream",
     "text": [
      "Processando Etapas de Ensino:  44%|████▍     | 20/45 [00:06<00:06,  4.03it/s]"
     ]
    },
    {
     "name": "stdout",
     "output_type": "stream",
     "text": [
      "\n",
      "SUB-ETAPA: INICIANDO ETAPA DE ENSINO EM PARALELISMO: [IN_FUND]\n",
      "[IN_INTERNET_APRENDIZAGEM] PULANDO: VARIÁVEL ALVO 'QT_MAT_INTERNET_APRENDIZAGEM' NÃO ENCONTRADA OU SEM VARIÂNCIA.[IN_PROF_SECRETARIO] PULANDO: VARIÁVEL ALVO 'QT_MAT_PROF_SECRETARIO' NÃO ENCONTRADA OU SEM VARIÂNCIA.\n",
      "\n"
     ]
    },
    {
     "name": "stderr",
     "output_type": "stream",
     "text": [
      "Processando Etapas de Ensino:  47%|████▋     | 21/45 [00:07<00:05,  4.17it/s]"
     ]
    },
    {
     "name": "stdout",
     "output_type": "stream",
     "text": [
      "\n",
      "SUB-ETAPA: INICIANDO ETAPA DE ENSINO EM PARALELISMO: [IN_FUND_AI]\n",
      "\n",
      "SUB-ETAPA: INICIANDO ETAPA DE ENSINO EM PARALELISMO: [IN_FUND_AF]\n",
      "[IN_PROF_BIBLIOTECARIO] PULANDO: VARIÁVEL ALVO 'QT_MAT_PROF_BIBLIOTECARIO' NÃO ENCONTRADA OU SEM VARIÂNCIA.\n"
     ]
    },
    {
     "name": "stderr",
     "output_type": "stream",
     "text": [
      "Processando Etapas de Ensino:  51%|█████     | 23/45 [00:07<00:03,  6.18it/s]"
     ]
    },
    {
     "name": "stdout",
     "output_type": "stream",
     "text": [
      "\n",
      "SUB-ETAPA: INICIANDO ETAPA DE ENSINO EM PARALELISMO: [IN_MED]\n",
      "[IN_ORGAO_ASS_PAIS_MESTRES] PULANDO: VARIÁVEL ALVO 'QT_MAT_ORGAO_ASS_PAIS_MESTRES' NÃO ENCONTRADA OU SEM VARIÂNCIA.\n"
     ]
    },
    {
     "name": "stderr",
     "output_type": "stream",
     "text": [
      "Processando Etapas de Ensino:  53%|█████▎    | 24/45 [00:07<00:03,  6.31it/s]"
     ]
    },
    {
     "name": "stdout",
     "output_type": "stream",
     "text": [
      "\n",
      "SUB-ETAPA: INICIANDO ETAPA DE ENSINO EM PARALELISMO: [IN_PROF_TEC]\n",
      "[IN_FUNDAMENTAL_CICLOS] PULANDO: VARIÁVEL ALVO 'QT_MAT_FUNDAMENTAL_CICLOS' NÃO ENCONTRADA OU SEM VARIÂNCIA.[IN_MEDIACAO_SEMIPRESENCIAL] PULANDO: VARIÁVEL ALVO 'QT_MAT_MEDIACAO_SEMIPRESENCIAL' NÃO ENCONTRADA OU SEM VARIÂNCIA.\n",
      "\n"
     ]
    },
    {
     "name": "stderr",
     "output_type": "stream",
     "text": [
      "Processando Etapas de Ensino:  56%|█████▌    | 25/45 [00:07<00:04,  4.40it/s]"
     ]
    },
    {
     "name": "stdout",
     "output_type": "stream",
     "text": [
      "\n",
      "SUB-ETAPA: INICIANDO ETAPA DE ENSINO EM PARALELISMO: [IN_EJA_FUND][IN_LOCAL_FUNC_PREDIO_ESCOLAR] PULANDO: VARIÁVEL ALVO 'QT_MAT_LOCAL_FUNC_PREDIO_ESCOLAR' NÃO ENCONTRADA OU SEM VARIÂNCIA.\n",
      "\n",
      "\n",
      "SUB-ETAPA: INICIANDO ETAPA DE ENSINO EM PARALELISMO: [IN_EJA_MED]\n",
      "\n",
      "SUB-ETAPA: INICIANDO ETAPA DE ENSINO EM PARALELISMO: [IN_ESP_CE]\n",
      "[IN_ORGAO_ASS_PAIS] PULANDO: VARIÁVEL ALVO 'QT_MAT_ORGAO_ASS_PAIS' NÃO ENCONTRADA OU SEM VARIÂNCIA.\n"
     ]
    },
    {
     "name": "stderr",
     "output_type": "stream",
     "text": [
      "Processando Etapas de Ensino:  62%|██████▏   | 28/45 [00:07<00:02,  7.44it/s]"
     ]
    },
    {
     "name": "stdout",
     "output_type": "stream",
     "text": [
      "[IN_EQUIP_IMPRESSORA_MULT] PULANDO: VARIÁVEL ALVO 'QT_MAT_EQUIP_IMPRESSORA_MULT' NÃO ENCONTRADA OU SEM VARIÂNCIA.\n",
      "[IN_MEDIACAO_EAD] PULANDO: VARIÁVEL ALVO 'QT_MAT_MEDIACAO_EAD' NÃO ENCONTRADA OU SEM VARIÂNCIA.\n"
     ]
    },
    {
     "name": "stderr",
     "output_type": "stream",
     "text": [
      "Processando Etapas de Ensino:  67%|██████▋   | 30/45 [00:08<00:03,  4.03it/s]"
     ]
    },
    {
     "name": "stdout",
     "output_type": "stream",
     "text": [
      "[IN_REDES_SOCIAIS] PULANDO: VARIÁVEL ALVO 'QT_MAT_REDES_SOCIAIS' NÃO ENCONTRADA OU SEM VARIÂNCIA.\n"
     ]
    },
    {
     "name": "stderr",
     "output_type": "stream",
     "text": [
      "Processando Etapas de Ensino:  69%|██████▉   | 31/45 [00:09<00:03,  4.46it/s]"
     ]
    },
    {
     "name": "stdout",
     "output_type": "stream",
     "text": [
      "[IN_EQUIP_IMPRESSORA] PULANDO: VARIÁVEL ALVO 'QT_MAT_EQUIP_IMPRESSORA' NÃO ENCONTRADA OU SEM VARIÂNCIA.\n"
     ]
    },
    {
     "name": "stderr",
     "output_type": "stream",
     "text": [
      "Processando Etapas de Ensino:  71%|███████   | 32/45 [00:09<00:02,  4.57it/s]"
     ]
    },
    {
     "name": "stdout",
     "output_type": "stream",
     "text": [
      "[IN_ACESSO_INTERNET_COMPUTADOR] PULANDO: VARIÁVEL ALVO 'QT_MAT_ACESSO_INTERNET_COMPUTADOR' NÃO ENCONTRADA OU SEM VARIÂNCIA.\n"
     ]
    },
    {
     "name": "stderr",
     "output_type": "stream",
     "text": [
      "Processando Etapas de Ensino:  73%|███████▎  | 33/45 [00:09<00:02,  4.72it/s]"
     ]
    },
    {
     "name": "stdout",
     "output_type": "stream",
     "text": [
      "[IN_PROF_SERVICOS_GERAIS] PULANDO: VARIÁVEL ALVO 'QT_MAT_PROF_SERVICOS_GERAIS' NÃO ENCONTRADA OU SEM VARIÂNCIA.\n"
     ]
    },
    {
     "name": "stderr",
     "output_type": "stream",
     "text": [
      "Processando Etapas de Ensino:  76%|███████▌  | 34/45 [00:09<00:02,  4.56it/s]"
     ]
    },
    {
     "name": "stdout",
     "output_type": "stream",
     "text": [
      "[IN_MEDIACAO_PRESENCIAL] PULANDO: VARIÁVEL ALVO 'QT_MAT_MEDIACAO_PRESENCIAL' NÃO ENCONTRADA OU SEM VARIÂNCIA.\n"
     ]
    },
    {
     "name": "stderr",
     "output_type": "stream",
     "text": [
      "Processando Etapas de Ensino:  78%|███████▊  | 35/45 [00:09<00:02,  4.48it/s]"
     ]
    },
    {
     "name": "stdout",
     "output_type": "stream",
     "text": [
      "[IN_ESP_CE] CONCLUÍDO!\n"
     ]
    },
    {
     "name": "stderr",
     "output_type": "stream",
     "text": [
      "Processando Etapas de Ensino:  80%|████████  | 36/45 [00:34<01:01,  6.86s/it]"
     ]
    },
    {
     "name": "stdout",
     "output_type": "stream",
     "text": [
      "[IN_PROF_TEC] CONCLUÍDO!\n"
     ]
    },
    {
     "name": "stderr",
     "output_type": "stream",
     "text": [
      "Processando Etapas de Ensino:  82%|████████▏ | 37/45 [01:01<01:39, 12.47s/it]"
     ]
    },
    {
     "name": "stdout",
     "output_type": "stream",
     "text": [
      "[IN_EJA_MED] CONCLUÍDO!\n"
     ]
    },
    {
     "name": "stderr",
     "output_type": "stream",
     "text": [
      "Processando Etapas de Ensino:  84%|████████▍ | 38/45 [01:19<01:38, 14.12s/it]"
     ]
    },
    {
     "name": "stdout",
     "output_type": "stream",
     "text": [
      "[IN_EJA_FUND] CONCLUÍDO!\n"
     ]
    },
    {
     "name": "stderr",
     "output_type": "stream",
     "text": [
      "Processando Etapas de Ensino:  87%|████████▋ | 39/45 [03:23<04:36, 46.02s/it]"
     ]
    },
    {
     "name": "stdout",
     "output_type": "stream",
     "text": [
      "[IN_MED] CONCLUÍDO!\n"
     ]
    },
    {
     "name": "stderr",
     "output_type": "stream",
     "text": [
      "Processando Etapas de Ensino:  89%|████████▉ | 40/45 [03:24<02:44, 32.95s/it]"
     ]
    },
    {
     "name": "stdout",
     "output_type": "stream",
     "text": [
      "[IN_FUND_AF] CONCLUÍDO!\n"
     ]
    },
    {
     "name": "stderr",
     "output_type": "stream",
     "text": [
      "Processando Etapas de Ensino:  91%|█████████ | 41/45 [07:00<05:47, 86.76s/it]"
     ]
    },
    {
     "name": "stdout",
     "output_type": "stream",
     "text": [
      "[IN_INF_CRE] CONCLUÍDO!\n"
     ]
    },
    {
     "name": "stderr",
     "output_type": "stream",
     "text": [
      "Processando Etapas de Ensino:  93%|█████████▎| 42/45 [07:26<03:26, 68.97s/it]"
     ]
    },
    {
     "name": "stdout",
     "output_type": "stream",
     "text": [
      "[IN_INF_PRE] CONCLUÍDO!\n"
     ]
    },
    {
     "name": "stderr",
     "output_type": "stream",
     "text": [
      "Processando Etapas de Ensino:  96%|█████████▌| 43/45 [12:31<04:38, 139.07s/it]"
     ]
    },
    {
     "name": "stdout",
     "output_type": "stream",
     "text": [
      "[IN_FUND_AI] CONCLUÍDO!\n"
     ]
    },
    {
     "name": "stderr",
     "output_type": "stream",
     "text": [
      "Processando Etapas de Ensino:  98%|█████████▊| 44/45 [13:47<02:00, 120.27s/it]"
     ]
    },
    {
     "name": "stdout",
     "output_type": "stream",
     "text": [
      "[IN_FUND] CONCLUÍDO!\n"
     ]
    },
    {
     "name": "stderr",
     "output_type": "stream",
     "text": [
      "Processando Etapas de Ensino: 100%|██████████| 45/45 [14:50<00:00, 19.79s/it] \n"
     ]
    },
    {
     "name": "stdout",
     "output_type": "stream",
     "text": [
      "\n",
      "ANALISE E MODELAGEM CONCLUIDAS.\n",
      "SUB-ETAPA: REMOVENDO O ARQUIVO TEMPORÁRIO\n",
      "\n",
      "ETAPA: RESUMO DOS RESULTADOS\n",
      "SUB-ETAPA: EXPERIMENTOS VÁLIDOS (R² > 0): 30\n",
      "\n",
      "==================================================\n",
      "DESEMPENHO AGREGADO POR MODELO (MÉDIAS)\n",
      "==================================================\n",
      "                 R2_Media_CV              R2_Ajustado_Media_CV         \\\n",
      "                        mean median   std                 mean median   \n",
      "modelo                                                                  \n",
      "LightGBM               0.913  0.924  0.07                0.913  0.924   \n",
      "Random Forest          0.908  0.920  0.07                0.908  0.920   \n",
      "Regressão Linear       0.776  0.770  0.03                0.776  0.770   \n",
      "\n",
      "                 RMSE_Media_CV        MAE_Media_CV        num_amostras  \n",
      "                          mean median         mean median          sum  \n",
      "modelo                                                                  \n",
      "LightGBM                 0.257  0.266        0.165  0.159       550457  \n",
      "Random Forest            0.267  0.270        0.170  0.166       550457  \n",
      "Regressão Linear         0.479  0.485        0.364  0.368       550457  \n",
      "\n",
      "======================================================================\n",
      "DESEMPENHO DETALHADO POR ETAPA E MODELO (ORDENADO POR ETAPA E MELHOR R²)\n",
      "======================================================================\n",
      "                              R2_Media_CV  R2_Ajustado_Media_CV  RMSE_Media_CV  MAE_Media_CV  MAPE_Media_CV  num_amostras\n",
      "etapa       modelo                                                                                                       \n",
      "IN_EJA_FUND LightGBM                0.885                 0.885          0.318         0.227          0.072       27936.0\n",
      "            Random Forest           0.878                 0.878          0.328         0.233          0.074       27936.0\n",
      "            Regressão Linear        0.790                 0.789          0.431         0.336          0.105       27936.0\n",
      "IN_EJA_MED  LightGBM                0.850                 0.849          0.306         0.194          0.057        9181.0\n",
      "            Random Forest           0.835                 0.835          0.320         0.201          0.060        9181.0\n",
      "            Regressão Linear        0.768                 0.767          0.380         0.271          0.078        9181.0\n",
      "IN_ESP_CE   Random Forest           0.760                 0.758          0.230         0.110          0.070        3764.0\n",
      "            LightGBM                0.754                 0.753          0.232         0.115          0.072        3764.0\n",
      "            Regressão Linear        0.722                 0.721          0.247         0.136          0.086        3764.0\n",
      "IN_FUND     LightGBM                0.981                 0.981          0.187         0.121          0.037      131516.0\n",
      "            Random Forest           0.978                 0.978          0.201         0.128          0.039      131516.0\n",
      "            Regressão Linear        0.772                 0.772          0.641         0.517          0.143      131516.0\n",
      "IN_FUND_AF  LightGBM                0.967                 0.967          0.201         0.121          0.037       61819.0\n",
      "            Random Forest           0.963                 0.963          0.214         0.126          0.039       61819.0\n",
      "            Regressão Linear        0.763                 0.763          0.540         0.399          0.120       61819.0\n",
      "IN_FUND_AI  LightGBM                0.970                 0.970          0.212         0.137          0.045      115533.0\n",
      "            Random Forest           0.966                 0.966          0.225         0.143          0.047      115533.0\n",
      "            Regressão Linear        0.777                 0.777          0.580         0.462          0.140      115533.0\n",
      "IN_INF_CRE  LightGBM                0.917                 0.917          0.340         0.233          0.116       62866.0\n",
      "            Random Forest           0.912                 0.912          0.350         0.239          0.119       62866.0\n",
      "            Regressão Linear        0.765                 0.765          0.572         0.455          0.223       62866.0\n",
      "IN_INF_PRE  LightGBM                0.930                 0.930          0.303         0.212          0.100      102802.0\n",
      "            Random Forest           0.927                 0.927          0.311         0.217          0.103      102802.0\n",
      "            Regressão Linear        0.758                 0.758          0.566         0.448          0.206      102802.0\n",
      "IN_MED      LightGBM                0.971                 0.971          0.171         0.109          0.026       28098.0\n",
      "            Random Forest           0.968                 0.968          0.181         0.114          0.028       28098.0\n",
      "            Regressão Linear        0.827                 0.827          0.422         0.318          0.075       28098.0\n",
      "IN_PROF_TEC LightGBM                0.905                 0.905          0.299         0.181          0.050        6942.0\n",
      "            Random Forest           0.895                 0.895          0.314         0.190          0.053        6942.0\n",
      "            Regressão Linear        0.818                 0.818          0.414         0.292          0.080        6942.0\n",
      "\n",
      "RESULTADOS COMPLETOS EXPORTADOS PARA: /home/vmuser131/gdrive/MESTRADO_CC/MEU_PROJETO/resumo_desempenho_ml_detalhado.csv\n",
      "\n",
      "SCRIPT CONCLUIDO!\n"
     ]
    }
   ],
   "source": [
    "import pandas as pd\n",
    "import numpy as np\n",
    "from sklearn.model_selection import KFold, cross_validate\n",
    "from sklearn.linear_model import LinearRegression\n",
    "from sklearn.ensemble import RandomForestRegressor\n",
    "import lightgbm as lgb  # Importando LightGBM\n",
    "from sklearn.pipeline import Pipeline\n",
    "from sklearn.preprocessing import RobustScaler\n",
    "from sklearn.feature_selection import mutual_info_regression\n",
    "import multiprocessing\n",
    "from functools import partial\n",
    "from tqdm import tqdm\n",
    "import sys\n",
    "import os\n",
    "import warnings\n",
    "import gc\n",
    "import pyarrow\n",
    "\n",
    "warnings.filterwarnings('ignore', category=UserWarning)\n",
    "warnings.filterwarnings('ignore', category=FutureWarning)\n",
    "warnings.filterwarnings('ignore', category=pd.errors.PerformanceWarning)\n",
    "\n",
    "def otimizar_memoria(df, verbose=True):\n",
    "    \"\"\"\n",
    "    Reduz o uso de memória de um DataFrame, alterando os tipos de dados das colunas.\n",
    "    \"\"\"\n",
    "    print(\"\\nETAPA: OTIMIZANDO O TAMANHO DO DATAFRAME\")\n",
    "    start_mem = df.memory_usage().sum() / 1024**2\n",
    "    if verbose:\n",
    "        print(f'TAMANHO INICIAL DO DATAFRAME: {start_mem:.2f} MB')\n",
    "\n",
    "    for col in df.columns:\n",
    "        col_type = df[col].dtype\n",
    "\n",
    "        if col_type != object and col_type.name != 'category' and 'datetime' not in str(col_type):\n",
    "            c_min = df[col].min()\n",
    "            c_max = df[col].max()\n",
    "            if str(col_type)[:3] == 'int':\n",
    "                if c_min > np.iinfo(np.int8).min and c_max < np.iinfo(np.int8).max:\n",
    "                    df[col] = df[col].astype(np.int8)\n",
    "                elif c_min > np.iinfo(np.int16).min and c_max < np.iinfo(np.int16).max:\n",
    "                    df[col] = df[col].astype(np.int16)\n",
    "                elif c_min > np.iinfo(np.int32).min and c_max < np.iinfo(np.int32).max:\n",
    "                    df[col] = df[col].astype(np.int32)\n",
    "                elif c_min > np.iinfo(np.int64).min and c_max < np.iinfo(np.int64).max:\n",
    "                    df[col] = df[col].astype(np.int64)\n",
    "            else:\n",
    "                if c_min > np.finfo(np.float32).min and c_max < np.finfo(np.float32).max:\n",
    "                    df[col] = df[col].astype(np.float32)\n",
    "                else:\n",
    "                    df[col] = df[col].astype(np.float64)\n",
    "\n",
    "    end_mem = df.memory_usage().sum() / 1024**2\n",
    "    if verbose:\n",
    "        print(f'TAMANHO FINAL DO DATAFRAME: {end_mem:.2f} MB')\n",
    "        print(f'PERCENTUAL DE REDUÇÃO: {100 * (start_mem - end_mem) / start_mem:.1f}%')\n",
    "    return df\n",
    "\n",
    "def _ler_um_ano(ano, caminho_base):\n",
    "    \"\"\"\n",
    "    Função auxiliar para ler o arquivo CSV de um único ano.\n",
    "    \"\"\"\n",
    "    caminho_arquivo = os.path.join(caminho_base, f'microdados_ed_basica_{ano}', 'dados', f'microdados_ed_basica_{ano}.csv')\n",
    "    try:\n",
    "        df_ano = pd.read_csv(caminho_arquivo, sep=';', encoding='latin1', low_memory=False)\n",
    "    except (UnicodeDecodeError, FileNotFoundError):\n",
    "        try:\n",
    "            df_ano = pd.read_csv(caminho_arquivo, sep=';', encoding='utf-8', low_memory=False)\n",
    "        except Exception as e_final:\n",
    "            print(f\"ERRO AO CARREGAR {ano}: {e_final}\", file=sys.stderr)\n",
    "            return None\n",
    "    df_ano['NU_ANO_CENSO'] = ano\n",
    "    return df_ano\n",
    "\n",
    "def carregar_e_combinar_dados(caminho_base, intervalo_anos):\n",
    "    \"\"\"\n",
    "    Carrega dados de múltiplos arquivos CSV em paralelo e os combina em um único DataFrame.\n",
    "    \"\"\"\n",
    "    print(\"\\nETAPA: CARREGANDO OS DADOS DO CSV E CRIANDO O DATAFRAME\")\n",
    "    print(f\"INICIANDO CARGA DE DADOS DE FORMA PARALELA: ANOS {list(intervalo_anos)}\")\n",
    "    n_cores = multiprocessing.cpu_count()\n",
    "    pool_size = max(1, n_cores - 2)\n",
    "\n",
    "    with multiprocessing.Pool(processes=pool_size) as pool:\n",
    "        func_parcial = partial(_ler_um_ano, caminho_base=caminho_base)\n",
    "        dataframes = []\n",
    "        with tqdm(total=len(intervalo_anos), desc=\"Lendo arquivos CSV em paralelo\") as pbar:\n",
    "            for df_ano in pool.imap_unordered(func_parcial, intervalo_anos):\n",
    "                if df_ano is not None:\n",
    "                    dataframes.append(df_ano)\n",
    "                pbar.update()\n",
    "\n",
    "    if not dataframes:\n",
    "        print(\"ERRO: NENHUM DADO CARREGADO. VERIFIQUE OS CAMINHOS.\", file=sys.stderr)\n",
    "        sys.exit(1)\n",
    "\n",
    "    print(\"\\nSUBETAPA: CONCATENANDO DATAFRAMES DE ANOS\")\n",
    "    df_completo = pd.concat(dataframes, ignore_index=True)\n",
    "    del dataframes\n",
    "    gc.collect()\n",
    "    print(f\"SHAPE DO DATAFRAME CONCATENADO: {df_completo.shape}\")\n",
    "\n",
    "    return otimizar_memoria(df_completo)\n",
    "\n",
    "def preprocessar_dados(df, null_threshold=0.9):\n",
    "    \"\"\"\n",
    "    Executa uma série de etapas de pré-processamento nos dados.\n",
    "    \"\"\"\n",
    "    print(\"\\nETAPA: INICIANDO O PRE PROCESSAMENTO DOS DADOS\")\n",
    "\n",
    "    print(\"\\nSUBETAPA [1]: REMOVENDO COLUNAS COM MUITOS NULOS\")\n",
    "    limite_nulos = len(df) * null_threshold\n",
    "    cols_a_remover_nulos = [col for col in df.columns if df[col].isnull().sum() > limite_nulos]\n",
    "    if cols_a_remover_nulos:\n",
    "        print(f\"COLUNAS COM MUITOS NULOS REMOVIDAS: {len(cols_a_remover_nulos)}\")\n",
    "        df.drop(columns=cols_a_remover_nulos, inplace=True)\n",
    "\n",
    "    print(\"\\nSUBETAPA [2]: SELECIONANDO AS COLUNAS QUE IDENTIFICAM AS ETAPAS DE ENSINO\")\n",
    "    sufixos_etapas = ['CRE', 'PRE', 'AI', 'AF', 'MED', 'FUND', 'TEC', 'CE', 'EJA_FUND', 'EJA_MED']\n",
    "    cols_etapas = [col for col in df.columns if col.startswith('IN_') and any(sufixo in col for sufixo in sufixos_etapas)]\n",
    "    print(f\"COLUNAS DE ETAPAS ENCONTRADAS: {len(cols_etapas)}\")\n",
    "\n",
    "    print(\"\\nSUBETAPA [3]: OTIMIZANDO COLUNAS INDICADORAS E PREENCHENDO NAs\")\n",
    "    cols_indicadoras = [col for col in df.columns if col.startswith('IN_')]\n",
    "    for col in tqdm(cols_indicadoras, desc=\"Processando colunas indicadoras\"):\n",
    "        if col in df.columns:\n",
    "            df[col] = df[col].fillna(0).astype(np.int8)\n",
    "\n",
    "    print(\"\\nSUBETAPA [4]: CONVERTENDO CATEGORIAS EM DADOS NUMÉRICOS\")\n",
    "    cols_categoricas_potenciais = df.select_dtypes(include=['object', 'category']).columns.tolist()\n",
    "    cols_categoricas_potenciais += [col for col in df.columns if col.startswith('TP_')]\n",
    "    cols_a_ignorar_cat = ['CO_ENTIDADE', 'NO_ENTIDADE', 'DS_ENDERECO']\n",
    "    cols_a_converter = [c for c in set(cols_categoricas_potenciais) if c in df.columns and c not in cols_a_ignorar_cat]\n",
    "\n",
    "    print(f\"COLUNAS CATEGORICAS A CONVERTER: {len(cols_a_converter)}\")\n",
    "    for col in tqdm(cols_a_converter, desc=\"Convertendo colunas categóricas\"):\n",
    "        df[col] = pd.Categorical(df[col]).codes\n",
    "\n",
    "    print(\"\\nSUBETAPA [5]: REMOVENDO OUTLIERS USANDO CAPPING EM PERCENTIL 99\")\n",
    "    cols_quantitativas = [c for c in df.select_dtypes(include=np.number).columns if c.startswith('QT_')]\n",
    "    if cols_quantitativas:\n",
    "        print(f\"COLUNAS QUANTITATIVAS A SEREM TRATADAS: {len(cols_quantitativas)}\")\n",
    "        for col in tqdm(cols_quantitativas, desc=\"Tratando outliers\"):\n",
    "            p99 = df[col].quantile(0.99)\n",
    "            if p99 > 0:\n",
    "                df.loc[df[col] > p99, col] = p99\n",
    "\n",
    "    print(\"\\nSUBETAPA [6]: PREENCHENDO NAN COM MEDIANA\")\n",
    "    for col in tqdm(df.select_dtypes(include=np.number).columns, desc=\"Preenchendo NaNs com mediana\"):\n",
    "        if df[col].isnull().any():\n",
    "            median_val = df[col].median()\n",
    "            df[col].fillna(median_val, inplace=True)\n",
    "\n",
    "    print(\"\\nSUBETAPA [7]: REMOVENDO COLUNAS SEM VARIÂNCIA\")\n",
    "    cols_a_manter_sempre = ['CO_ENTIDADE', 'NU_ANO_CENSO'] + cols_etapas\n",
    "    cols_verificar_variancia = [c for c in df.select_dtypes(include=np.number).columns if c not in cols_a_manter_sempre]\n",
    "\n",
    "    cols_a_remover_variancia = [col for col in cols_verificar_variancia if df[col].nunique(dropna=False) <= 1]\n",
    "    if cols_a_remover_variancia:\n",
    "        print(f\"COLUNAS IDENTIFICADAS SEM VARIÂNCIA: {len(cols_a_remover_variancia)}\")\n",
    "        df.drop(columns=cols_a_remover_variancia, inplace=True)\n",
    "\n",
    "    print(f\"PRE-PROCESSAMENTO CONCLUIDO. SHAPE FINAL: {df.shape}\")\n",
    "\n",
    "    print(\"\\nSUBETAPA: OTIMIZANDO DATAFRAME PRE PROCESSADO\")\n",
    "    df = otimizar_memoria(df, verbose=False)\n",
    "    return df, cols_etapas\n",
    "\n",
    "def _processar_chunk_temporal(df_chunk):\n",
    "    \"\"\"\n",
    "    Processa um chunk de DataFrame para criar features temporais (lag e growth rate).\n",
    "    \"\"\"\n",
    "    df_chunk = df_chunk.sort_values(['CO_ENTIDADE', 'NU_ANO_CENSO'])\n",
    "    cols_para_lag = [col for col in df_chunk.columns if col.startswith(('QT_MAT_', 'QT_DOC_', 'QT_TUR_'))]\n",
    "    grouped = df_chunk.groupby('CO_ENTIDADE')\n",
    "    for col in cols_para_lag:\n",
    "        df_chunk[f'{col}_lag1'] = grouped[col].shift(1)\n",
    "        df_chunk[f'{col}_growth_rate_lag1'] = grouped[col].pct_change(1).shift(1)\n",
    "    return df_chunk\n",
    "\n",
    "def _generate_df_chunks(df, chunks_de_codigos):\n",
    "    \"\"\"\n",
    "    Gerador que produz chunks do DataFrame baseados em listas de códigos de entidade.\n",
    "    \"\"\"\n",
    "    for chunk in chunks_de_codigos:\n",
    "        yield df[df['CO_ENTIDADE'].isin(chunk)].copy()\n",
    "\n",
    "def criar_features_temporais(df):\n",
    "    \"\"\"\n",
    "    Cria features temporais (lags) de forma paralela.\n",
    "    \"\"\"\n",
    "    print(\"\\nETAPA: CRIANDO FEATURES TEMPORAIS (LAGS) EM PARALELO\")\n",
    "    print(\"SUB-ETAPA: CALCULANDO PARAMETROS (NÚCLEOS, CHUNKS NECESSÁRIOS, ESCOLAS)\")\n",
    "    n_cores = multiprocessing.cpu_count()\n",
    "    pool_size = max(1, n_cores - 2)\n",
    "\n",
    "    codigos_escolas = df['CO_ENTIDADE'].unique()\n",
    "    num_chunks = min(pool_size * 4, len(codigos_escolas))\n",
    "\n",
    "    chunks_de_codigos = np.array_split(codigos_escolas, num_chunks)\n",
    "    df_chunk_generator = _generate_df_chunks(df, chunks_de_codigos)\n",
    "    print(f\"NÚMERO DE CHUNKS: {num_chunks}\")\n",
    "\n",
    "    resultados_chunks = []\n",
    "    print(\"SUB-ETAPA: COMEÇANDO O PARALELISMO DO PROCESSAMENTO DAS CHUNKS\")\n",
    "    with multiprocessing.Pool(processes=pool_size) as pool:\n",
    "        with tqdm(total=num_chunks, desc=\"Processando chunks de escolas\") as pbar:\n",
    "            for resultado in pool.imap_unordered(_processar_chunk_temporal, df_chunk_generator):\n",
    "                resultados_chunks.append(resultado)\n",
    "                pbar.update()\n",
    "\n",
    "    print(\"SUB-ETAPA: CONCATENANDO OS CHUNKS PROCESSADOS\")\n",
    "    df_final = pd.concat(resultados_chunks, ignore_index=True)\n",
    "    del resultados_chunks\n",
    "    gc.collect()\n",
    "    print(f\"SHAPE DA CONCATENAÇÃO COM LAGS: {df_final.shape}\")\n",
    "\n",
    "    print(\"SUB-ETAPA: FILTRANDO LINHAS COM LAGS INVÁLIDOS (NaN, Inf)\")\n",
    "    cols_para_lag = [col for col in df.columns if col.startswith(('QT_MAT_', 'QT_DOC_', 'QT_TUR_'))]\n",
    "    subset_dropna = [f'{c}_lag1' for c in cols_para_lag if f'{c}_lag1' in df_final.columns]\n",
    "    df_final.dropna(subset=subset_dropna, inplace=True)\n",
    "    df_final.replace([np.inf, -np.inf], np.nan, inplace=True)\n",
    "\n",
    "    print(\"SUB-ETAPA: PREENCHENDO COLUNAS NUMÉRICAS NA COM ZERO\")\n",
    "    numeric_cols = df_final.select_dtypes(include=np.number).columns\n",
    "    df_final[numeric_cols] = df_final[numeric_cols].fillna(0)\n",
    "\n",
    "    print(f\"SHAPE FINAL APÓS CRIAÇÃO DE FEATURES: {df_final.shape}\")\n",
    "    return df_final\n",
    "\n",
    "def _worker_modelagem_etapa(col_etapa, file_path, top_n_features, todas_as_etapas):\n",
    "    \"\"\"\n",
    "    Worker para o paralelismo: processa uma única etapa de ensino, desde a seleção\n",
    "    de features até a modelagem e avaliação.\n",
    "    \"\"\"\n",
    "    print(f\"\\nSUB-ETAPA: INICIANDO ETAPA DE ENSINO EM PARALELISMO: [{col_etapa}]\")\n",
    "\n",
    "    df_full = pd.read_feather(file_path)\n",
    "    dados_etapa = df_full[df_full[col_etapa] == 1].copy()\n",
    "    del df_full\n",
    "    gc.collect()\n",
    "\n",
    "    if len(dados_etapa) < 50:\n",
    "        print(f\"[{col_etapa}] PULANDO: DADOS INSUFICIENTES ({len(dados_etapa)} amostras).\")\n",
    "        return []\n",
    "\n",
    "    sufixo_alvo = col_etapa.replace('IN_', '')\n",
    "    alvo = f'QT_MAT_{sufixo_alvo}'\n",
    "\n",
    "    if alvo not in dados_etapa.columns or dados_etapa[alvo].nunique() < 2:\n",
    "        print(f\"[{col_etapa}] PULANDO: VARIÁVEL ALVO '{alvo}' NÃO ENCONTRADA OU SEM VARIÂNCIA.\")\n",
    "        return []\n",
    "\n",
    "    features_candidatas = [\n",
    "        c for c in dados_etapa.select_dtypes(include=np.number).columns\n",
    "        if c not in [alvo, 'CO_ENTIDADE', 'NU_ANO_CENSO'] and\n",
    "           c not in todas_as_etapas and\n",
    "           not (c.startswith('QT_MAT_') and '_lag' not in c)\n",
    "    ]\n",
    "    features_candidatas = [c for c in features_candidatas if dados_etapa[c].nunique() > 1]\n",
    "\n",
    "    if not features_candidatas:\n",
    "        print(f\"[{col_etapa}] PULANDO: NENHUMA FEATURE CANDIDATA VÁLIDA.\")\n",
    "        return []\n",
    "\n",
    "    X_cand = dados_etapa[features_candidatas]\n",
    "    y_cand = np.log1p(dados_etapa[alvo])\n",
    "\n",
    "    try:\n",
    "        mi_scores = mutual_info_regression(X_cand, y_cand, random_state=42)\n",
    "        df_mi = pd.DataFrame({'feature': features_candidatas, 'mi_score': mi_scores})\n",
    "        features_selecionadas = df_mi[df_mi['mi_score'] > 0].sort_values('mi_score', ascending=False).head(top_n_features)['feature'].tolist()\n",
    "    except Exception as e:\n",
    "        print(f\"[{col_etapa}] ERRO NO CALCULO DA MUTUAL INFORMATION, PULANDO COLUNA: {e}\", file=sys.stderr)\n",
    "        features_selecionadas = [f for f in features_candidatas if f.endswith(\"_lag1\")][:20]\n",
    "\n",
    "    if not features_selecionadas:\n",
    "        print(f\"[{col_etapa}] NENHUMA FEATURE FOI SELECIONADA APÓS MI. PULANDO.\")\n",
    "        return []\n",
    "\n",
    "    X = dados_etapa[features_selecionadas]\n",
    "    y = np.log1p(dados_etapa[alvo])\n",
    "    X, y = X.align(y, axis=0, join='inner')\n",
    "\n",
    "    if len(X) < 20:\n",
    "        print(f\"[{col_etapa}] PULANDO: POUCAS AMOSTRAS ({len(X)}) APÓS ALINHAMENTO.\")\n",
    "        return []\n",
    "\n",
    "    # Modelos a serem treinados e avaliados\n",
    "    modelos = {\n",
    "        \"Regressão Linear\": Pipeline([('scaler', RobustScaler()), ('modelo', LinearRegression())]),\n",
    "        \"LightGBM\": lgb.LGBMRegressor(random_state=42, n_jobs=1, verbosity=-1),\n",
    "        \"Random Forest\": RandomForestRegressor(n_estimators=50, random_state=42, n_jobs=1, max_depth=10, min_samples_leaf=5)\n",
    "    }\n",
    "\n",
    "    # Métricas a serem calculadas\n",
    "    scoring_metrics = {\n",
    "        'r2': 'r2',\n",
    "        'mae': 'neg_mean_absolute_error',\n",
    "        'mse': 'neg_mean_squared_error',\n",
    "        'rmse': 'neg_root_mean_squared_error',\n",
    "        'mape': 'neg_mean_absolute_percentage_error'\n",
    "    }\n",
    "\n",
    "    resultados_etapa = []\n",
    "    kf = KFold(n_splits=5, shuffle=True, random_state=42)\n",
    "\n",
    "    for nome_modelo, modelo in modelos.items():\n",
    "        try:\n",
    "            scores = cross_validate(modelo, X, y, cv=kf, scoring=scoring_metrics, n_jobs=1)\n",
    "            \n",
    "            # Médias das métricas\n",
    "            r2_mean = scores['test_r2'].mean()\n",
    "            mae_mean = -scores['test_mae'].mean()\n",
    "            mse_mean = -scores['test_mse'].mean()\n",
    "            rmse_mean = -scores['test_rmse'].mean()\n",
    "            mape_mean = -scores['test_mape'].mean()\n",
    "\n",
    "            # Desvio padrão das métricas\n",
    "            r2_std = scores['test_r2'].std()\n",
    "            mae_std = scores['test_mae'].std()\n",
    "            rmse_std = scores['test_rmse'].std()\n",
    "            \n",
    "            # Cálculo do R² Ajustado\n",
    "            n_samples = len(X)\n",
    "            n_features = len(features_selecionadas)\n",
    "            adj_r2_mean = 1 - (1 - r2_mean) * (n_samples - 1) / (n_samples - n_features - 1)\n",
    "\n",
    "            resultados_etapa.append({\n",
    "                'contexto': col_etapa,\n",
    "                'modelo': nome_modelo,\n",
    "                'R2_Media_CV': r2_mean,\n",
    "                'R2_Ajustado_Media_CV': adj_r2_mean,\n",
    "                'MAE_Media_CV': mae_mean,\n",
    "                'MSE_Media_CV': mse_mean,\n",
    "                'RMSE_Media_CV': rmse_mean,\n",
    "                'MAPE_Media_CV': mape_mean,\n",
    "                'R2_Std_CV': r2_std,\n",
    "                'MAE_Std_CV': mae_std,\n",
    "                'RMSE_Std_CV': rmse_std,\n",
    "                'num_amostras': n_samples,\n",
    "                'num_features': n_features,\n",
    "                'features_utilizadas': \", \".join(features_selecionadas)\n",
    "            })\n",
    "        except Exception as e:\n",
    "            print(f\"[{col_etapa}] ERRO AO TREINAR O MODELO: {nome_modelo} POIS: {e}\", file=sys.stderr)\n",
    "            continue\n",
    "\n",
    "    del dados_etapa, X, y, X_cand, y_cand\n",
    "    gc.collect()\n",
    "\n",
    "    print(f\"[{col_etapa}] CONCLUÍDO!\")\n",
    "    return resultados_etapa\n",
    "\n",
    "def analisar_e_modelar_paralelo(df, cols_etapas, top_n_features):\n",
    "    \"\"\"\n",
    "    Orquestra a modelagem em paralelo, distribuindo as etapas de ensino pelos workers.\n",
    "    \"\"\"\n",
    "    print(\"\\nETAPA: MODELAGEM DE MODELOS COM BASE NAS FEATURES MAIS CORRELACIONADAS\")\n",
    "\n",
    "    n_cores = multiprocessing.cpu_count()\n",
    "    pool_size = max(1, n_cores - 2)\n",
    "    temp_file_path = \"temp_data_for_workers.feather\"\n",
    "\n",
    "    try:\n",
    "        print(f\"NÚCLEOS DA CPU EM USO: {pool_size}\")\n",
    "        print(\"SUB-ETAPA: SALVANDO DATAFRAME COMPLETO EM ARQUIVO TEMPORÁRIO (Feather)\")\n",
    "        df.reset_index(drop=True).to_feather(temp_file_path)\n",
    "        del df\n",
    "        gc.collect()\n",
    "\n",
    "        func_parcial = partial(\n",
    "            _worker_modelagem_etapa,\n",
    "            file_path=temp_file_path,\n",
    "            top_n_features=top_n_features,\n",
    "            todas_as_etapas=cols_etapas\n",
    "        )\n",
    "\n",
    "        resultados_finais = []\n",
    "        print(\"SUB-ETAPA: COMEÇANDO O PARALELISMO DO PROCESSAMENTO DAS MODELAGENS POR ETAPAS\")\n",
    "        with multiprocessing.Pool(processes=pool_size) as pool:\n",
    "            with tqdm(total=len(cols_etapas), desc=\"Processando Etapas de Ensino\") as pbar:\n",
    "                for resultado_etapa in pool.imap_unordered(func_parcial, cols_etapas):\n",
    "                    if resultado_etapa:\n",
    "                        resultados_finais.extend(resultado_etapa)\n",
    "                    pbar.update()\n",
    "\n",
    "        print(\"\\nANALISE E MODELAGEM CONCLUIDAS.\")\n",
    "        return resultados_finais\n",
    "\n",
    "    finally:\n",
    "        print(\"SUB-ETAPA: REMOVENDO O ARQUIVO TEMPORÁRIO\")\n",
    "        if os.path.exists(temp_file_path):\n",
    "            os.remove(temp_file_path)\n",
    "\n",
    "def resumir_e_exportar(resultados, caminho_saida):\n",
    "    \"\"\"\n",
    "    Resume os resultados da modelagem, imprime na tela e exporta para um arquivo CSV.\n",
    "    \"\"\"\n",
    "    print(\"\\nETAPA: RESUMO DOS RESULTADOS\")\n",
    "    if not resultados:\n",
    "        print(\"\\nNENHUM RESULTADO DE ML GERADO.\")\n",
    "        return\n",
    "\n",
    "    df_resultados = pd.DataFrame(resultados)\n",
    "\n",
    "    resultados_razoaveis = df_resultados[df_resultados['R2_Media_CV'] > 0].copy()\n",
    "    if resultados_razoaveis.empty:\n",
    "        print(\"\\nNENHUM MODELO COM R² POSITIVO FOI GERADO. VERIFIQUE OS DADOS E FEATURES.\")\n",
    "        return\n",
    "        \n",
    "    print(f\"SUB-ETAPA: EXPERIMENTOS VÁLIDOS (R² > 0): {len(resultados_razoaveis)}\")\n",
    "\n",
    "    resultados_razoaveis.rename(columns={'contexto': 'etapa'}, inplace=True)\n",
    "    \n",
    "    metricas_agg = {\n",
    "        'R2_Media_CV': ['mean', 'median', 'std'],\n",
    "        'R2_Ajustado_Media_CV': ['mean', 'median'],\n",
    "        'RMSE_Media_CV': ['mean', 'median'],\n",
    "        'MAE_Media_CV': ['mean', 'median'],\n",
    "        'num_amostras': ['sum']\n",
    "    }\n",
    "    \n",
    "    sumario = resultados_razoaveis.groupby('modelo').agg(metricas_agg).sort_values(('R2_Media_CV', 'mean'), ascending=False)\n",
    "    \n",
    "    print(\"\\n\" + \"=\"*50)\n",
    "    print(\"DESEMPENHO AGREGADO POR MODELO (MÉDIAS)\")\n",
    "    print(\"=\"*50)\n",
    "    print(sumario.round(3))\n",
    "\n",
    "    print(\"\\n\" + \"=\"*70)\n",
    "    print(\"DESEMPENHO DETALHADO POR ETAPA E MODELO (ORDENADO POR ETAPA E MELHOR R²)\")\n",
    "    print(\"=\"*70)\n",
    "    \n",
    "    cols_display = ['R2_Media_CV', 'R2_Ajustado_Media_CV', 'RMSE_Media_CV', 'MAE_Media_CV', 'MAPE_Media_CV', 'num_amostras']\n",
    "    sumario_por_etapa = resultados_razoaveis.groupby(['etapa', 'modelo'])[cols_display].mean().sort_values(['etapa', 'R2_Media_CV'], ascending=[True, False])\n",
    "    \n",
    "    with pd.option_context('display.max_rows', None, 'display.max_columns', None, 'display.width', 1000):\n",
    "        print(sumario_por_etapa.round(3))\n",
    "\n",
    "    try:\n",
    "        diretorio_saida = os.path.dirname(caminho_saida)\n",
    "        if diretorio_saida and not os.path.exists(diretorio_saida):\n",
    "            os.makedirs(diretorio_saida)\n",
    "        df_resultados.to_csv(caminho_saida, index=False, encoding='utf-8-sig')\n",
    "        print(f\"\\nRESULTADOS COMPLETOS EXPORTADOS PARA: {caminho_saida}\")\n",
    "    except Exception as e:\n",
    "        print(f\"ERRO AO SALVAR CSV: {e}\", file=sys.stderr)\n",
    "\n",
    "def main():\n",
    "    \"\"\"\n",
    "    Função principal que orquestra todo o pipeline de execução.\n",
    "    \"\"\"\n",
    "    print(\"ETAPA INICIAL: INICIANDO SCRIPT DE MODELAGEM\")\n",
    "\n",
    "    # --- PARÂMETROS DE EXECUÇÃO ---\n",
    "    AMOSTRAGEM_ATIVA = True\n",
    "    FRACAO_AMOSTRA = 0.1\n",
    "    CAMINHO_BASE = '/home/vmuser131/gdrive/MESTRADO_CC/MEU_PROJETO/MICRODADOS_CENSO'\n",
    "    CAMINHO_SAIDA_CSV = '/home/vmuser131/gdrive/MESTRADO_CC/MEU_PROJETO/resumo_desempenho_ml_detalhado.csv'\n",
    "    ANOS = range(2011, 2022)\n",
    "    TOP_N_FEATURES_POR_MODELO = 25\n",
    "    # -----------------------------\n",
    "\n",
    "    df_completo = carregar_e_combinar_dados(CAMINHO_BASE, ANOS)\n",
    "\n",
    "    if AMOSTRAGEM_ATIVA:\n",
    "        print(\"\\nETAPA: INICIANDO AMOSTRAGEM DE ESCOLAS\")\n",
    "        print(f\"SHAPE INICIAL ANTES DA AMOSTRA: {df_completo.shape}\")\n",
    "        codigos_escolas = df_completo['CO_ENTIDADE'].unique()\n",
    "        tamanho_amostra = int(len(codigos_escolas) * FRACAO_AMOSTRA)\n",
    "        print(f\"TOTAL DE ESCOLAS ÚNICAS: {len(codigos_escolas)}\")\n",
    "        print(f\"ESCOLAS A SEREM AMOSTRADAS ({FRACAO_AMOSTRA*100}%): {tamanho_amostra}\")\n",
    "\n",
    "        np.random.seed(42)\n",
    "        escolas_amostra = np.random.choice(codigos_escolas, size=tamanho_amostra, replace=False)\n",
    "        df_principal = df_completo[df_completo['CO_ENTIDADE'].isin(escolas_amostra)].copy()\n",
    "        \n",
    "        print(f\"SHAPE APÓS AMOSTRA: {df_principal.shape}\")\n",
    "        del df_completo\n",
    "        gc.collect()\n",
    "    else:\n",
    "        df_principal = df_completo\n",
    "\n",
    "    df_processado, cols_etapas_encontradas = preprocessar_dados(df_principal)\n",
    "    del df_principal\n",
    "    gc.collect()\n",
    "\n",
    "    df_com_features = criar_features_temporais(df_processado)\n",
    "    del df_processado\n",
    "    gc.collect()\n",
    "\n",
    "    resultados_ml = analisar_e_modelar_paralelo(\n",
    "        df=df_com_features,\n",
    "        cols_etapas=cols_etapas_encontradas,\n",
    "        top_n_features=TOP_N_FEATURES_POR_MODELO\n",
    "    )\n",
    "\n",
    "    resumir_e_exportar(resultados_ml, CAMINHO_SAIDA_CSV)\n",
    "    print(\"\\nSCRIPT CONCLUIDO!\")\n",
    "\n",
    "if __name__ == \"__main__\":\n",
    "    main()\n"
   ]
  }
 ],
 "metadata": {
  "colab": {
   "provenance": []
  },
  "kernelspec": {
   "display_name": "Python 3 (ipykernel)",
   "language": "python",
   "name": "python3"
  },
  "language_info": {
   "codemirror_mode": {
    "name": "ipython",
    "version": 3
   },
   "file_extension": ".py",
   "mimetype": "text/x-python",
   "name": "python",
   "nbconvert_exporter": "python",
   "pygments_lexer": "ipython3",
   "version": "3.12.3"
  }
 },
 "nbformat": 4,
 "nbformat_minor": 5
}
